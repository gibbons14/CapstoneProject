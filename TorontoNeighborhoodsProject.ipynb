{
 "cells": [
  {
   "cell_type": "markdown",
   "metadata": {},
   "source": [
    "<h1>Welcome!</h1>\n",
    "<p>Thanks for reviewing my project.<br><br>\n",
    "Here, I will be trying to scrape the data from the given url. <br>\n",
    "------------------------------------------------------------------------------<br><br>\n",
    "<h3>First, I will import and install everything I will need to scrape the site and then turn it into a DataFrame.</h3>"
   ]
  },
  {
   "cell_type": "code",
   "execution_count": 162,
   "metadata": {},
   "outputs": [
    {
     "name": "stdout",
     "output_type": "stream",
     "text": [
      "Solving environment: done\n",
      "\n",
      "\n",
      "==> WARNING: A newer version of conda exists. <==\n",
      "  current version: 4.5.11\n",
      "  latest version: 4.8.1\n",
      "\n",
      "Please update conda by running\n",
      "\n",
      "    $ conda update -n base -c defaults conda\n",
      "\n",
      "\n",
      "\n",
      "# All requested packages already installed.\n",
      "\n",
      "installation complete\n",
      "imports complete\n"
     ]
    }
   ],
   "source": [
    "!conda install BeautifulSoup4 --yes\n",
    "print('installation complete')\n",
    "\n",
    "import re\n",
    "import requests\n",
    "from bs4 import BeautifulSoup\n",
    "import pandas as pd\n",
    "\n",
    "print('imports complete')"
   ]
  },
  {
   "cell_type": "markdown",
   "metadata": {},
   "source": [
    "<h3>Then I need to actually scrape the site and do some BeautifulSoup methods in order to get the table into a python string</h3>"
   ]
  },
  {
   "cell_type": "code",
   "execution_count": 163,
   "metadata": {},
   "outputs": [
    {
     "name": "stdout",
     "output_type": "stream",
     "text": [
      "<Response [200]>\n"
     ]
    }
   ],
   "source": [
    "webpage = requests.get('https://en.wikipedia.org/wiki/List_of_postal_codes_of_Canada:_M')\n",
    "print(webpage)\n",
    "\n",
    "#Create the BeautifulSoup object\n",
    "soup = BeautifulSoup(webpage.content,'html.parser')\n",
    "\n",
    "#Get the table\n",
    "soup_table = soup.find('table')\n",
    "\n",
    "#Turn the table into a string\n",
    "textonly = soup_table.get_text(',')"
   ]
  },
  {
   "cell_type": "markdown",
   "metadata": {},
   "source": [
    "<h3> I then take the newly formed string and separate it into a list, then clean up the list, separate it into sublists by the column I will eventually put into my dictionary, and then create a dictionary in order to easily create a DataFrame."
   ]
  },
  {
   "cell_type": "code",
   "execution_count": 164,
   "metadata": {},
   "outputs": [],
   "source": [
    "#Turn the string into a list\n",
    "full_list = textonly.split('\\n')\n",
    "\n",
    "#Clean the list\n",
    "clean_list = []\n",
    "for i in full_list:\n",
    "    if i != ',' and i != '':\n",
    "        i = i.replace(',','')\n",
    "        clean_list.append(i)\n",
    "columns = clean_list[0:3]\n",
    "postcodes = []\n",
    "for i in range(3, len(clean_list), 3):\n",
    "    postcodes.append(clean_list[i])\n",
    "boroughs = []\n",
    "for i in range(4, len(clean_list), 3):\n",
    "    boroughs.append(clean_list[i])\n",
    "neighborhoods = []\n",
    "for i in range(5, len(clean_list), 3):\n",
    "    neighborhoods.append(clean_list[i])\n",
    "data = {'Postcode':postcodes, 'Borough':boroughs, 'Neighbourhood':neighborhoods}"
   ]
  },
  {
   "cell_type": "markdown",
   "metadata": {},
   "source": [
    "<h3>I then pass the dict into my new DataFrame and clean up the DataFrame as per the instructions in the project (no Boroughs that are 'Not assigned', grouping the 'Neighbourhood' column by Postcode and Borough, etc.). Obviously this took a very long time and a lot of revisions, but I only included the code that finally worked."
   ]
  },
  {
   "cell_type": "code",
   "execution_count": 166,
   "metadata": {},
   "outputs": [
    {
     "name": "stdout",
     "output_type": "stream",
     "text": [
      "    Postcode      Borough                                      Neighbourhood\n",
      "0        M1B  Scarborough                                     Rouge, Malvern\n",
      "1        M1C  Scarborough             Highland Creek, Rouge Hill, Port Union\n",
      "2        M1E  Scarborough                  Guildwood, Morningside, West Hill\n",
      "3        M1G  Scarborough                                             Woburn\n",
      "4        M1H  Scarborough                                          Cedarbrae\n",
      "..       ...          ...                                                ...\n",
      "98       M9N         York                                             Weston\n",
      "99       M9P    Etobicoke                                          Westmount\n",
      "100      M9R    Etobicoke  Kingsview Village, Martin Grove Gardens, Richv...\n",
      "101      M9V    Etobicoke  Albion Gardens, Beaumond Heights, Humbergate, ...\n",
      "102      M9W    Etobicoke                                          Northwest\n",
      "\n",
      "[103 rows x 3 columns]\n"
     ]
    }
   ],
   "source": [
    "\n",
    "#Turn list into a dataframe\n",
    "df = pd.DataFrame(data)\n",
    "\n",
    "#Clean the DataFrame\n",
    "df = df.drop(df[df.Borough=='Not assigned'].index)\n",
    "df.reset_index(drop=True, inplace=True)\n",
    "for i in range(0, len(df.Neighbourhood)):\n",
    "    if df.Neighbourhood.iloc[i] == 'Not assigned':\n",
    "        df.Neighbourhood.iloc[i] = df.Borough.iloc[i]\n",
    "df_grouped = df.groupby(['Postcode', 'Borough'])\n",
    "df_neighs = df.groupby(['Postcode', 'Borough']).Neighbourhood.unique()\n",
    "df1 = df_neighs.to_frame()\n",
    "df1.reset_index(inplace=True)\n",
    "df1_neigh = df1.Neighbourhood.apply(lambda x: ', '.join(x))\n",
    "df1 = df1[['Postcode', 'Borough']]\n",
    "df1['Neighbourhood'] = df1_neigh\n",
    "\n",
    "print(df1)"
   ]
  },
  {
   "cell_type": "markdown",
   "metadata": {},
   "source": [
    "<h3>Finally, I print up the .shape method in order to show the total number of rows in my DataFrame. Hopefully it is correct!"
   ]
  },
  {
   "cell_type": "code",
   "execution_count": 167,
   "metadata": {},
   "outputs": [
    {
     "name": "stdout",
     "output_type": "stream",
     "text": [
      "(103, 3)\n"
     ]
    }
   ],
   "source": [
    "print(df1.shape)"
   ]
  },
  {
   "cell_type": "code",
   "execution_count": null,
   "metadata": {},
   "outputs": [],
   "source": []
  }
 ],
 "metadata": {
  "kernelspec": {
   "display_name": "Python",
   "language": "python",
   "name": "conda-env-python-py"
  },
  "language_info": {
   "codemirror_mode": {
    "name": "ipython",
    "version": 3
   },
   "file_extension": ".py",
   "mimetype": "text/x-python",
   "name": "python",
   "nbconvert_exporter": "python",
   "pygments_lexer": "ipython3",
   "version": "3.6.7"
  }
 },
 "nbformat": 4,
 "nbformat_minor": 4
}
