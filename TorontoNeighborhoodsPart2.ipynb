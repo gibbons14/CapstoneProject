{
 "cells": [
  {
   "cell_type": "markdown",
   "metadata": {},
   "source": [
    "<h1>Welcome!</h1><br>\n",
    "<p>Thanks again for checking out my project<br>\n",
    "This is where I will try to get the location data for each Toronto Neighborhood by using geocoder.<br>\n",
    "    -------------------------------------------------------------------------------------------------------------------------------------------------\n",
    "<br><h3>First I need to install the necessary libraries."
   ]
  },
  {
   "cell_type": "code",
   "execution_count": 11,
   "metadata": {},
   "outputs": [
    {
     "name": "stdout",
     "output_type": "stream",
     "text": [
      "Requirement already satisfied: geocoder in /home/jupyterlab/conda/envs/python/lib/python3.6/site-packages (1.38.1)\n",
      "Requirement already satisfied: ratelim in /home/jupyterlab/conda/envs/python/lib/python3.6/site-packages (from geocoder) (0.1.6)\n",
      "Requirement already satisfied: requests in /home/jupyterlab/conda/envs/python/lib/python3.6/site-packages (from geocoder) (2.22.0)\n",
      "Requirement already satisfied: future in /home/jupyterlab/conda/envs/python/lib/python3.6/site-packages (from geocoder) (0.18.2)\n",
      "Requirement already satisfied: six in /home/jupyterlab/conda/envs/python/lib/python3.6/site-packages (from geocoder) (1.13.0)\n",
      "Requirement already satisfied: click in /home/jupyterlab/conda/envs/python/lib/python3.6/site-packages (from geocoder) (7.0)\n",
      "Requirement already satisfied: decorator in /home/jupyterlab/conda/envs/python/lib/python3.6/site-packages (from ratelim->geocoder) (4.4.1)\n",
      "Requirement already satisfied: urllib3!=1.25.0,!=1.25.1,<1.26,>=1.21.1 in /home/jupyterlab/conda/envs/python/lib/python3.6/site-packages (from requests->geocoder) (1.25.7)\n",
      "Requirement already satisfied: chardet<3.1.0,>=3.0.2 in /home/jupyterlab/conda/envs/python/lib/python3.6/site-packages (from requests->geocoder) (3.0.4)\n",
      "Requirement already satisfied: idna<2.9,>=2.5 in /home/jupyterlab/conda/envs/python/lib/python3.6/site-packages (from requests->geocoder) (2.8)\n",
      "Requirement already satisfied: certifi>=2017.4.17 in /home/jupyterlab/conda/envs/python/lib/python3.6/site-packages (from requests->geocoder) (2019.9.11)\n",
      "Solving environment: done\n",
      "\n",
      "\n",
      "==> WARNING: A newer version of conda exists. <==\n",
      "  current version: 4.5.11\n",
      "  latest version: 4.8.1\n",
      "\n",
      "Please update conda by running\n",
      "\n",
      "    $ conda update -n base -c defaults conda\n",
      "\n",
      "\n",
      "\n",
      "## Package Plan ##\n",
      "\n",
      "  environment location: /home/jupyterlab/conda/envs/python\n",
      "\n",
      "  added / updated specs: \n",
      "    - beautifulsoup4\n",
      "\n",
      "\n",
      "The following packages will be downloaded:\n",
      "\n",
      "    package                    |            build\n",
      "    ---------------------------|-----------------\n",
      "    beautifulsoup4-4.8.2       |           py36_0         161 KB\n",
      "    certifi-2019.11.28         |           py36_0         156 KB\n",
      "    soupsieve-1.9.5            |           py36_0          61 KB\n",
      "    openssl-1.1.1d             |       h7b6447c_3         3.7 MB\n",
      "    ------------------------------------------------------------\n",
      "                                           Total:         4.1 MB\n",
      "\n",
      "The following NEW packages will be INSTALLED:\n",
      "\n",
      "    soupsieve:      1.9.5-py36_0                 \n",
      "\n",
      "The following packages will be UPDATED:\n",
      "\n",
      "    beautifulsoup4: 4.6.3-py37_0                  --> 4.8.2-py36_0     \n",
      "    certifi:        2019.9.11-py36_0  conda-forge --> 2019.11.28-py36_0\n",
      "    openssl:        1.1.1d-h516909a_0 conda-forge --> 1.1.1d-h7b6447c_3\n",
      "\n",
      "\n",
      "Downloading and Extracting Packages\n",
      "beautifulsoup4-4.8.2 | 161 KB    | ##################################### | 100% \n",
      "certifi-2019.11.28   | 156 KB    | ##################################### | 100% \n",
      "soupsieve-1.9.5      | 61 KB     | ##################################### | 100% \n",
      "openssl-1.1.1d       | 3.7 MB    | ##################################### | 100% \n",
      "Preparing transaction: done\n",
      "Verifying transaction: done\n",
      "Executing transaction: done\n",
      "installation complete\n"
     ]
    }
   ],
   "source": [
    "!pip install geocoder\n",
    "!conda install BeautifulSoup4 --yes\n",
    "print('installation complete')"
   ]
  },
  {
   "cell_type": "markdown",
   "metadata": {},
   "source": [
    "<h3>I couldn't figure out how to import my dataframe from my other notebook so I am just copying all of the code to make it here."
   ]
  },
  {
   "cell_type": "code",
   "execution_count": 14,
   "metadata": {},
   "outputs": [
    {
     "name": "stdout",
     "output_type": "stream",
     "text": [
      "    Postcode      Borough                                      Neighbourhood\n",
      "0        M1B  Scarborough                                     Rouge, Malvern\n",
      "1        M1C  Scarborough             Highland Creek, Rouge Hill, Port Union\n",
      "2        M1E  Scarborough                  Guildwood, Morningside, West Hill\n",
      "3        M1G  Scarborough                                             Woburn\n",
      "4        M1H  Scarborough                                          Cedarbrae\n",
      "..       ...          ...                                                ...\n",
      "98       M9N         York                                             Weston\n",
      "99       M9P    Etobicoke                                          Westmount\n",
      "100      M9R    Etobicoke  Kingsview Village, Martin Grove Gardens, Richv...\n",
      "101      M9V    Etobicoke  Albion Gardens, Beaumond Heights, Humbergate, ...\n",
      "102      M9W    Etobicoke                                          Northwest\n",
      "\n",
      "[103 rows x 3 columns]\n"
     ]
    }
   ],
   "source": [
    "import geocoder\n",
    "import re\n",
    "import requests\n",
    "from bs4 import BeautifulSoup\n",
    "import pandas as pd\n",
    "\n",
    "webpage = requests.get('https://en.wikipedia.org/wiki/List_of_postal_codes_of_Canada:_M')\n",
    "#Create the BeautifulSoup object\n",
    "soup = BeautifulSoup(webpage.content,'html.parser')\n",
    "#Get the table\n",
    "soup_table = soup.find('table')\n",
    "#Turn the table into a string\n",
    "textonly = soup_table.get_text(',')\n",
    "#Turn the string into a list\n",
    "full_list = textonly.split('\\n')\n",
    "#Clean the list\n",
    "clean_list = []\n",
    "for i in full_list:\n",
    "    if i != ',' and i != '':\n",
    "        i = i.replace(',','')\n",
    "        clean_list.append(i)\n",
    "columns = clean_list[0:3]\n",
    "postcodes = []\n",
    "for i in range(3, len(clean_list), 3):\n",
    "    postcodes.append(clean_list[i])\n",
    "boroughs = []\n",
    "for i in range(4, len(clean_list), 3):\n",
    "    boroughs.append(clean_list[i])\n",
    "neighborhoods = []\n",
    "for i in range(5, len(clean_list), 3):\n",
    "    neighborhoods.append(clean_list[i])\n",
    "data = {'Postcode':postcodes, 'Borough':boroughs, 'Neighbourhood':neighborhoods}\n",
    "#Turn list into a dataframe\n",
    "df = pd.DataFrame(data)\n",
    "#Clean the DataFrame\n",
    "df = df.drop(df[df.Borough=='Not assigned'].index)\n",
    "df.reset_index(drop=True, inplace=True)\n",
    "for i in range(0, len(df.Neighbourhood)):\n",
    "    if df.Neighbourhood.iloc[i] == 'Not assigned':\n",
    "        df.Neighbourhood.iloc[i] = df.Borough.iloc[i]\n",
    "df_grouped = df.groupby(['Postcode', 'Borough'])\n",
    "df_neighs = df.groupby(['Postcode', 'Borough']).Neighbourhood.unique()\n",
    "df1 = df_neighs.to_frame()\n",
    "df1.reset_index(inplace=True)\n",
    "df1_neigh = df1.Neighbourhood.apply(lambda x: ', '.join(x))\n",
    "df1 = df1[['Postcode', 'Borough']]\n",
    "df1['Neighbourhood'] = df1_neigh\n",
    "print(df1)"
   ]
  },
  {
   "cell_type": "markdown",
   "metadata": {},
   "source": [
    "<h3>Now I am going to try to use geocoder to get the location data for each neighborhood.<br><br>\n",
    "    Note: I worked on this for about 3 hours and gave up, but here is the closest I think I came. I tried the while loop as given in the directions, but it just led to an infinite loop. In the next block I am just going to use the .csv provided."
   ]
  },
  {
   "cell_type": "code",
   "execution_count": 28,
   "metadata": {},
   "outputs": [
    {
     "ename": "TypeError",
     "evalue": "'NoneType' object is not subscriptable",
     "output_type": "error",
     "traceback": [
      "\u001b[0;31m---------------------------------------------------------------------------\u001b[0m",
      "\u001b[0;31mTypeError\u001b[0m                                 Traceback (most recent call last)",
      "\u001b[0;32m<ipython-input-28-d94ad17701f8>\u001b[0m in \u001b[0;36m<module>\u001b[0;34m\u001b[0m\n\u001b[1;32m      2\u001b[0m \u001b[0;32mfor\u001b[0m \u001b[0mpostcode\u001b[0m \u001b[0;32min\u001b[0m \u001b[0mdf1\u001b[0m\u001b[0;34m.\u001b[0m\u001b[0mPostcode\u001b[0m\u001b[0;34m:\u001b[0m\u001b[0;34m\u001b[0m\u001b[0;34m\u001b[0m\u001b[0m\n\u001b[1;32m      3\u001b[0m     \u001b[0mg\u001b[0m \u001b[0;34m=\u001b[0m \u001b[0mgeocoder\u001b[0m\u001b[0;34m.\u001b[0m\u001b[0mgoogle\u001b[0m\u001b[0;34m(\u001b[0m\u001b[0;34m'{}, Toronto, Ontario'\u001b[0m\u001b[0;34m.\u001b[0m\u001b[0mformat\u001b[0m\u001b[0;34m(\u001b[0m\u001b[0mpostcode\u001b[0m\u001b[0;34m)\u001b[0m\u001b[0;34m)\u001b[0m\u001b[0;34m\u001b[0m\u001b[0;34m\u001b[0m\u001b[0m\n\u001b[0;32m----> 4\u001b[0;31m     \u001b[0mlatitude\u001b[0m \u001b[0;34m=\u001b[0m \u001b[0mg\u001b[0m\u001b[0;34m.\u001b[0m\u001b[0mlatlng\u001b[0m\u001b[0;34m[\u001b[0m\u001b[0;36m0\u001b[0m\u001b[0;34m]\u001b[0m\u001b[0;34m\u001b[0m\u001b[0;34m\u001b[0m\u001b[0m\n\u001b[0m\u001b[1;32m      5\u001b[0m     \u001b[0mlongitude\u001b[0m \u001b[0;34m=\u001b[0m \u001b[0mg\u001b[0m\u001b[0;34m.\u001b[0m\u001b[0mlatlng\u001b[0m\u001b[0;34m[\u001b[0m\u001b[0;36m1\u001b[0m\u001b[0;34m]\u001b[0m\u001b[0;34m\u001b[0m\u001b[0;34m\u001b[0m\u001b[0m\n\u001b[1;32m      6\u001b[0m     \u001b[0mall_lats_longs\u001b[0m\u001b[0;34m.\u001b[0m\u001b[0mappend\u001b[0m\u001b[0;34m(\u001b[0m\u001b[0;34m[\u001b[0m\u001b[0mpostcode\u001b[0m\u001b[0;34m,\u001b[0m \u001b[0mlatitude\u001b[0m\u001b[0;34m,\u001b[0m \u001b[0mlongitude\u001b[0m\u001b[0;34m]\u001b[0m\u001b[0;34m)\u001b[0m\u001b[0;34m\u001b[0m\u001b[0;34m\u001b[0m\u001b[0m\n",
      "\u001b[0;31mTypeError\u001b[0m: 'NoneType' object is not subscriptable"
     ]
    }
   ],
   "source": [
    "all_lats_longs = []\n",
    "for postcode in df1.Postcode:\n",
    "    g = geocoder.google('{}, Toronto, Ontario'.format(postcode))\n",
    "    latitude = g.latlng[0]\n",
    "    longitude = g.latlng[1]\n",
    "    all_lats_longs.append([postcode, latitude, longitude])\n",
    "    print(postcode)\n",
    "print(all_lats_longs)\n"
   ]
  },
  {
   "cell_type": "markdown",
   "metadata": {},
   "source": [
    "<h3> Since geocoder failed, I am downloading the csv and putting it into a dataframe."
   ]
  },
  {
   "cell_type": "code",
   "execution_count": 30,
   "metadata": {},
   "outputs": [
    {
     "name": "stdout",
     "output_type": "stream",
     "text": [
      "  Postal Code   Latitude  Longitude\n",
      "0         M1B  43.806686 -79.194353\n",
      "1         M1C  43.784535 -79.160497\n",
      "2         M1E  43.763573 -79.188711\n",
      "3         M1G  43.770992 -79.216917\n",
      "4         M1H  43.773136 -79.239476\n"
     ]
    }
   ],
   "source": [
    "!wget -q -O 'geospatial_data.csv' https://cocl.us/Geospatial_data\n",
    "ll_data = pd.read_csv('geospatial_data.csv')\n",
    "print(ll_data.head())"
   ]
  },
  {
   "cell_type": "markdown",
   "metadata": {},
   "source": [
    "<h3>Now I will join my two DataFrams to make the DataFrame required for this section"
   ]
  },
  {
   "cell_type": "code",
   "execution_count": 36,
   "metadata": {},
   "outputs": [
    {
     "name": "stdout",
     "output_type": "stream",
     "text": [
      "  Postcode      Borough                           Neighbourhood   Latitude  \\\n",
      "0      M1B  Scarborough                          Rouge, Malvern  43.806686   \n",
      "1      M1C  Scarborough  Highland Creek, Rouge Hill, Port Union  43.784535   \n",
      "2      M1E  Scarborough       Guildwood, Morningside, West Hill  43.763573   \n",
      "3      M1G  Scarborough                                  Woburn  43.770992   \n",
      "4      M1H  Scarborough                               Cedarbrae  43.773136   \n",
      "\n",
      "   Longitude  \n",
      "0 -79.194353  \n",
      "1 -79.160497  \n",
      "2 -79.188711  \n",
      "3 -79.216917  \n",
      "4 -79.239476  \n"
     ]
    }
   ],
   "source": [
    "full_df = pd.merge(df1, ll_data, left_on='Postcode', right_on='Postal Code')\n",
    "full_df = full_df[['Postcode', 'Borough', 'Neighbourhood', 'Latitude', 'Longitude']]\n",
    "full_df.rename(columns={'Postcode':'PostalCode'}, inplace=True)\n",
    "print(full_df.head())"
   ]
  },
  {
   "cell_type": "code",
   "execution_count": null,
   "metadata": {},
   "outputs": [],
   "source": []
  }
 ],
 "metadata": {
  "kernelspec": {
   "display_name": "Python",
   "language": "python",
   "name": "conda-env-python-py"
  },
  "language_info": {
   "codemirror_mode": {
    "name": "ipython",
    "version": 3
   },
   "file_extension": ".py",
   "mimetype": "text/x-python",
   "name": "python",
   "nbconvert_exporter": "python",
   "pygments_lexer": "ipython3",
   "version": "3.6.7"
  }
 },
 "nbformat": 4,
 "nbformat_minor": 4
}
